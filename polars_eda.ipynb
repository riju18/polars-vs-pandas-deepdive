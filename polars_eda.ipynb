{
 "cells": [
  {
   "cell_type": "markdown",
   "metadata": {},
   "source": [
    "# Task to experiment\n",
    "1. Fetch data with schema overwriting\n",
    "2. Do some basic analysis\n",
    "3. Best time to use `polars`\n",
    "4. Compare with `pandas` in respect of both time and efficiency\n",
    "\n",
    "----------------------------------\n",
    "- *Calculate time for each task*\n",
    "----------------------------------"
   ]
  },
  {
   "cell_type": "code",
   "execution_count": 34,
   "metadata": {},
   "outputs": [],
   "source": [
    "import time\n",
    "import polars as pl"
   ]
  },
  {
   "cell_type": "markdown",
   "metadata": {},
   "source": [
    "# 1. Read data as dataframe"
   ]
  },
  {
   "cell_type": "markdown",
   "metadata": {},
   "source": [
    "- Get csv data (~103 MB)\n",
    "- Overwrite schema to make sure proper datatype\n",
    "- `ignore` infer_schema: it scans all rows to find the proper datatype. That's why it slow and risky for large dataset "
   ]
  },
  {
   "cell_type": "markdown",
   "metadata": {},
   "source": [
    "- polars code"
   ]
  },
  {
   "cell_type": "code",
   "execution_count": 35,
   "metadata": {},
   "outputs": [],
   "source": [
    "start_time = time.time()"
   ]
  },
  {
   "cell_type": "code",
   "execution_count": 36,
   "metadata": {},
   "outputs": [],
   "source": [
    "df = pl.read_csv(source='data8277.csv'\n",
    "                 , has_header=True\n",
    "                 , separator=','\n",
    "                 , try_parse_dates=True\n",
    "                 , schema_overrides={\"count\": pl.Int32}\n",
    "                #  , infer_schema=True  # costly: traberse all rows to find out correct data type\n",
    "                 , ignore_errors=True\n",
    "                 , encoding='utf8')"
   ]
  },
  {
   "cell_type": "code",
   "execution_count": 37,
   "metadata": {},
   "outputs": [
    {
     "name": "stdout",
     "output_type": "stream",
     "text": [
      "Time to fetch the csv file: 2.1924350261688232\n"
     ]
    }
   ],
   "source": [
    "execution_time = time.time() - start_time\n",
    "print(f\"Time to fetch the csv file: {execution_time}\")"
   ]
  },
  {
   "cell_type": "markdown",
   "metadata": {},
   "source": [
    "- pandas code: `wip...`"
   ]
  },
  {
   "cell_type": "markdown",
   "metadata": {},
   "source": [
    "- findings\n",
    "    - super fast to parse data \n",
    "    - supports polars native data type, not external numpy based datatype\n",
    "    - try `parse dates param` makes it very efficient to detect datetime related col\n",
    "    - ignore errors param helps to prevent to break the code while retrieving data"
   ]
  },
  {
   "cell_type": "code",
   "execution_count": 38,
   "metadata": {},
   "outputs": [
    {
     "data": {
      "text/html": [
       "<div><style>\n",
       ".dataframe > thead > tr,\n",
       ".dataframe > tbody > tr {\n",
       "  text-align: right;\n",
       "  white-space: pre-wrap;\n",
       "}\n",
       "</style>\n",
       "<small>shape: (5, 6)</small><table border=\"1\" class=\"dataframe\"><thead><tr><th>Year</th><th>Age</th><th>Ethnic</th><th>Sex</th><th>Area</th><th>count</th></tr><tr><td>i64</td><td>i64</td><td>i64</td><td>i64</td><td>i64</td><td>i32</td></tr></thead><tbody><tr><td>2018</td><td>0</td><td>1</td><td>1</td><td>1</td><td>795</td></tr><tr><td>2018</td><td>0</td><td>1</td><td>1</td><td>2</td><td>5067</td></tr><tr><td>2018</td><td>0</td><td>1</td><td>1</td><td>3</td><td>2229</td></tr><tr><td>2018</td><td>0</td><td>1</td><td>1</td><td>4</td><td>1356</td></tr><tr><td>2018</td><td>0</td><td>1</td><td>1</td><td>5</td><td>180</td></tr></tbody></table></div>"
      ],
      "text/plain": [
       "shape: (5, 6)\n",
       "┌──────┬─────┬────────┬─────┬──────┬───────┐\n",
       "│ Year ┆ Age ┆ Ethnic ┆ Sex ┆ Area ┆ count │\n",
       "│ ---  ┆ --- ┆ ---    ┆ --- ┆ ---  ┆ ---   │\n",
       "│ i64  ┆ i64 ┆ i64    ┆ i64 ┆ i64  ┆ i32   │\n",
       "╞══════╪═════╪════════╪═════╪══════╪═══════╡\n",
       "│ 2018 ┆ 0   ┆ 1      ┆ 1   ┆ 1    ┆ 795   │\n",
       "│ 2018 ┆ 0   ┆ 1      ┆ 1   ┆ 2    ┆ 5067  │\n",
       "│ 2018 ┆ 0   ┆ 1      ┆ 1   ┆ 3    ┆ 2229  │\n",
       "│ 2018 ┆ 0   ┆ 1      ┆ 1   ┆ 4    ┆ 1356  │\n",
       "│ 2018 ┆ 0   ┆ 1      ┆ 1   ┆ 5    ┆ 180   │\n",
       "└──────┴─────┴────────┴─────┴──────┴───────┘"
      ]
     },
     "execution_count": 38,
     "metadata": {},
     "output_type": "execute_result"
    }
   ],
   "source": [
    "df.head()"
   ]
  },
  {
   "cell_type": "code",
   "execution_count": 39,
   "metadata": {},
   "outputs": [
    {
     "name": "stdout",
     "output_type": "stream",
     "text": [
      "Rows: 34959672\n",
      "Columns: 6\n",
      "$ Year   <i64> 2018, 2018, 2018, 2018, 2018, 2018, 2018, 2018, 2018, 2018\n",
      "$ Age    <i64> 0, 0, 0, 0, 0, 0, 0, 0, 0, 0\n",
      "$ Ethnic <i64> 1, 1, 1, 1, 1, 1, 1, 1, 1, 1\n",
      "$ Sex    <i64> 1, 1, 1, 1, 1, 1, 1, 1, 1, 1\n",
      "$ Area   <i64> 1, 2, 3, 4, 5, 6, 7, 8, 9, 12\n",
      "$ count  <i32> 795, 5067, 2229, 1356, 180, 738, 630, 1188, 2157, 177\n",
      "\n"
     ]
    }
   ],
   "source": [
    "df.glimpse()  # a snapshot of data"
   ]
  },
  {
   "cell_type": "markdown",
   "metadata": {},
   "source": [
    "# 2. Basic data analysis"
   ]
  },
  {
   "cell_type": "markdown",
   "metadata": {},
   "source": [
    "a. get specific columns\n",
    "\n",
    "- select only cols\n",
    "- basic calculations with selected cols\n",
    "\n",
    "b. create dereived col\n",
    "\n",
    "- to make a derive col from str input as condition use `lit`\n",
    "\n",
    "c. filter\n",
    "\n",
    "- basic filtereing\n",
    "- range\n",
    "\n",
    "d. sort\n",
    "\n",
    "e. group by\n",
    "\n",
    "f. combining DF"
   ]
  },
  {
   "cell_type": "markdown",
   "metadata": {},
   "source": [
    "## 2.a: Selecting cols"
   ]
  },
  {
   "cell_type": "markdown",
   "metadata": {},
   "source": [
    "- polars code"
   ]
  },
  {
   "cell_type": "code",
   "execution_count": 40,
   "metadata": {},
   "outputs": [],
   "source": [
    "start_time_selecting_cols = time.time()"
   ]
  },
  {
   "cell_type": "code",
   "execution_count": 41,
   "metadata": {},
   "outputs": [
    {
     "data": {
      "text/html": [
       "<div><style>\n",
       ".dataframe > thead > tr,\n",
       ".dataframe > tbody > tr {\n",
       "  text-align: right;\n",
       "  white-space: pre-wrap;\n",
       "}\n",
       "</style>\n",
       "<small>shape: (5, 2)</small><table border=\"1\" class=\"dataframe\"><thead><tr><th>Year</th><th>Age</th></tr><tr><td>i64</td><td>i64</td></tr></thead><tbody><tr><td>2018</td><td>0</td></tr><tr><td>2018</td><td>0</td></tr><tr><td>2018</td><td>0</td></tr><tr><td>2018</td><td>0</td></tr><tr><td>2018</td><td>0</td></tr></tbody></table></div>"
      ],
      "text/plain": [
       "shape: (5, 2)\n",
       "┌──────┬─────┐\n",
       "│ Year ┆ Age │\n",
       "│ ---  ┆ --- │\n",
       "│ i64  ┆ i64 │\n",
       "╞══════╪═════╡\n",
       "│ 2018 ┆ 0   │\n",
       "│ 2018 ┆ 0   │\n",
       "│ 2018 ┆ 0   │\n",
       "│ 2018 ┆ 0   │\n",
       "│ 2018 ┆ 0   │\n",
       "└──────┴─────┘"
      ]
     },
     "execution_count": 41,
     "metadata": {},
     "output_type": "execute_result"
    }
   ],
   "source": [
    "df_year_age = df.select(['Year', 'Age'])\n",
    "df_year_age.head()"
   ]
  },
  {
   "cell_type": "code",
   "execution_count": 42,
   "metadata": {},
   "outputs": [
    {
     "data": {
      "text/html": [
       "<div><style>\n",
       ".dataframe > thead > tr,\n",
       ".dataframe > tbody > tr {\n",
       "  text-align: right;\n",
       "  white-space: pre-wrap;\n",
       "}\n",
       "</style>\n",
       "<small>shape: (5, 2)</small><table border=\"1\" class=\"dataframe\"><thead><tr><th>Year</th><th>Age*1.0</th></tr><tr><td>i64</td><td>f64</td></tr></thead><tbody><tr><td>2018</td><td>0.0</td></tr><tr><td>2018</td><td>0.0</td></tr><tr><td>2018</td><td>0.0</td></tr><tr><td>2018</td><td>0.0</td></tr><tr><td>2018</td><td>0.0</td></tr></tbody></table></div>"
      ],
      "text/plain": [
       "shape: (5, 2)\n",
       "┌──────┬─────────┐\n",
       "│ Year ┆ Age*1.0 │\n",
       "│ ---  ┆ ---     │\n",
       "│ i64  ┆ f64     │\n",
       "╞══════╪═════════╡\n",
       "│ 2018 ┆ 0.0     │\n",
       "│ 2018 ┆ 0.0     │\n",
       "│ 2018 ┆ 0.0     │\n",
       "│ 2018 ┆ 0.0     │\n",
       "│ 2018 ┆ 0.0     │\n",
       "└──────┴─────────┘"
      ]
     },
     "execution_count": 42,
     "metadata": {},
     "output_type": "execute_result"
    }
   ],
   "source": [
    "df_year_age = df.select(\n",
    "    pl.col('Year')\n",
    "    , (pl.col('Age') * 1.0).alias('Age*1.0')\n",
    ")\n",
    "df_year_age.head()"
   ]
  },
  {
   "cell_type": "code",
   "execution_count": 43,
   "metadata": {},
   "outputs": [
    {
     "name": "stdout",
     "output_type": "stream",
     "text": [
      "execution time for selecting cols: 0.17614006996154785\n"
     ]
    }
   ],
   "source": [
    "execution_time_for_selecting_cols = time.time() - start_time_selecting_cols\n",
    "print(f\"execution time for selecting cols: {execution_time_for_selecting_cols}\")"
   ]
  },
  {
   "cell_type": "markdown",
   "metadata": {},
   "source": [
    "- pandas code: `wip...`"
   ]
  },
  {
   "cell_type": "markdown",
   "metadata": {},
   "source": [
    "## 2.b: Derive col"
   ]
  },
  {
   "cell_type": "markdown",
   "metadata": {},
   "source": [
    "- polars code"
   ]
  },
  {
   "cell_type": "code",
   "execution_count": 44,
   "metadata": {},
   "outputs": [],
   "source": [
    "start_time_creating_derive_cols = time.time()"
   ]
  },
  {
   "cell_type": "code",
   "execution_count": 45,
   "metadata": {},
   "outputs": [
    {
     "data": {
      "text/html": [
       "<div><style>\n",
       ".dataframe > thead > tr,\n",
       ".dataframe > tbody > tr {\n",
       "  text-align: right;\n",
       "  white-space: pre-wrap;\n",
       "}\n",
       "</style>\n",
       "<small>shape: (5, 6)</small><table border=\"1\" class=\"dataframe\"><thead><tr><th>Year</th><th>Age</th><th>Ethnic</th><th>Area</th><th>count</th><th>gender</th></tr><tr><td>i64</td><td>i64</td><td>i64</td><td>i64</td><td>i32</td><td>str</td></tr></thead><tbody><tr><td>2018</td><td>0</td><td>1</td><td>1</td><td>795</td><td>&quot;male&quot;</td></tr><tr><td>2018</td><td>0</td><td>1</td><td>2</td><td>5067</td><td>&quot;male&quot;</td></tr><tr><td>2018</td><td>0</td><td>1</td><td>3</td><td>2229</td><td>&quot;male&quot;</td></tr><tr><td>2018</td><td>0</td><td>1</td><td>4</td><td>1356</td><td>&quot;male&quot;</td></tr><tr><td>2018</td><td>0</td><td>1</td><td>5</td><td>180</td><td>&quot;male&quot;</td></tr></tbody></table></div>"
      ],
      "text/plain": [
       "shape: (5, 6)\n",
       "┌──────┬─────┬────────┬──────┬───────┬────────┐\n",
       "│ Year ┆ Age ┆ Ethnic ┆ Area ┆ count ┆ gender │\n",
       "│ ---  ┆ --- ┆ ---    ┆ ---  ┆ ---   ┆ ---    │\n",
       "│ i64  ┆ i64 ┆ i64    ┆ i64  ┆ i32   ┆ str    │\n",
       "╞══════╪═════╪════════╪══════╪═══════╪════════╡\n",
       "│ 2018 ┆ 0   ┆ 1      ┆ 1    ┆ 795   ┆ male   │\n",
       "│ 2018 ┆ 0   ┆ 1      ┆ 2    ┆ 5067  ┆ male   │\n",
       "│ 2018 ┆ 0   ┆ 1      ┆ 3    ┆ 2229  ┆ male   │\n",
       "│ 2018 ┆ 0   ┆ 1      ┆ 4    ┆ 1356  ┆ male   │\n",
       "│ 2018 ┆ 0   ┆ 1      ┆ 5    ┆ 180   ┆ male   │\n",
       "└──────┴─────┴────────┴──────┴───────┴────────┘"
      ]
     },
     "execution_count": 45,
     "metadata": {},
     "output_type": "execute_result"
    }
   ],
   "source": [
    "df_derive = df.with_columns(\n",
    "    gender = pl.when(pl.col(\"Sex\") == 1)\n",
    "    .then(pl.lit('male'))\n",
    "    .when(pl.col(\"Sex\") == 2)\n",
    "    .then(pl.lit('female'))\n",
    "    .otherwise(pl.lit('others'))\n",
    "    )\n",
    "\n",
    "df_derive = df_derive.drop(['Sex'])\n",
    "df_derive.head()"
   ]
  },
  {
   "cell_type": "code",
   "execution_count": 46,
   "metadata": {},
   "outputs": [
    {
     "name": "stdout",
     "output_type": "stream",
     "text": [
      "time to create derive col: 0.28652071952819824\n"
     ]
    }
   ],
   "source": [
    "execution_time_creating_derive_cols = time.time() - start_time_creating_derive_cols\n",
    "print(f\"time to create derive col: {execution_time_creating_derive_cols}\")"
   ]
  },
  {
   "cell_type": "markdown",
   "metadata": {},
   "source": [
    "- pandas code: `wip...`"
   ]
  },
  {
   "cell_type": "markdown",
   "metadata": {},
   "source": [
    "## 2.c: Filter"
   ]
  },
  {
   "cell_type": "markdown",
   "metadata": {},
   "source": [
    "- polars code"
   ]
  },
  {
   "cell_type": "code",
   "execution_count": 47,
   "metadata": {},
   "outputs": [],
   "source": [
    "start_time_for_filtering = time.time()"
   ]
  },
  {
   "cell_type": "code",
   "execution_count": 48,
   "metadata": {},
   "outputs": [
    {
     "data": {
      "text/html": [
       "<div><style>\n",
       ".dataframe > thead > tr,\n",
       ".dataframe > tbody > tr {\n",
       "  text-align: right;\n",
       "  white-space: pre-wrap;\n",
       "}\n",
       "</style>\n",
       "<small>shape: (5, 6)</small><table border=\"1\" class=\"dataframe\"><thead><tr><th>Year</th><th>Age</th><th>Ethnic</th><th>Area</th><th>count</th><th>gender</th></tr><tr><td>i64</td><td>i64</td><td>i64</td><td>i64</td><td>i32</td><td>str</td></tr></thead><tbody><tr><td>2006</td><td>0</td><td>1</td><td>1</td><td>615</td><td>&quot;male&quot;</td></tr><tr><td>2006</td><td>0</td><td>1</td><td>2</td><td>5142</td><td>&quot;male&quot;</td></tr><tr><td>2006</td><td>0</td><td>1</td><td>3</td><td>1809</td><td>&quot;male&quot;</td></tr><tr><td>2006</td><td>0</td><td>1</td><td>4</td><td>1110</td><td>&quot;male&quot;</td></tr><tr><td>2006</td><td>0</td><td>1</td><td>5</td><td>168</td><td>&quot;male&quot;</td></tr></tbody></table></div>"
      ],
      "text/plain": [
       "shape: (5, 6)\n",
       "┌──────┬─────┬────────┬──────┬───────┬────────┐\n",
       "│ Year ┆ Age ┆ Ethnic ┆ Area ┆ count ┆ gender │\n",
       "│ ---  ┆ --- ┆ ---    ┆ ---  ┆ ---   ┆ ---    │\n",
       "│ i64  ┆ i64 ┆ i64    ┆ i64  ┆ i32   ┆ str    │\n",
       "╞══════╪═════╪════════╪══════╪═══════╪════════╡\n",
       "│ 2006 ┆ 0   ┆ 1      ┆ 1    ┆ 615   ┆ male   │\n",
       "│ 2006 ┆ 0   ┆ 1      ┆ 2    ┆ 5142  ┆ male   │\n",
       "│ 2006 ┆ 0   ┆ 1      ┆ 3    ┆ 1809  ┆ male   │\n",
       "│ 2006 ┆ 0   ┆ 1      ┆ 4    ┆ 1110  ┆ male   │\n",
       "│ 2006 ┆ 0   ┆ 1      ┆ 5    ┆ 168   ┆ male   │\n",
       "└──────┴─────┴────────┴──────┴───────┴────────┘"
      ]
     },
     "execution_count": 48,
     "metadata": {},
     "output_type": "execute_result"
    }
   ],
   "source": [
    "df_basic_filter = df_derive.filter(\n",
    "        df_derive['Year'] < 2007\n",
    "    )\n",
    "\n",
    "df_basic_filter.head()"
   ]
  },
  {
   "cell_type": "code",
   "execution_count": 49,
   "metadata": {},
   "outputs": [
    {
     "data": {
      "text/html": [
       "<div><style>\n",
       ".dataframe > thead > tr,\n",
       ".dataframe > tbody > tr {\n",
       "  text-align: right;\n",
       "  white-space: pre-wrap;\n",
       "}\n",
       "</style>\n",
       "<small>shape: (5, 6)</small><table border=\"1\" class=\"dataframe\"><thead><tr><th>Year</th><th>Age</th><th>Ethnic</th><th>Area</th><th>count</th><th>gender</th></tr><tr><td>i64</td><td>i64</td><td>i64</td><td>i64</td><td>i32</td><td>str</td></tr></thead><tbody><tr><td>2013</td><td>0</td><td>1</td><td>1</td><td>660</td><td>&quot;male&quot;</td></tr><tr><td>2013</td><td>0</td><td>1</td><td>2</td><td>5502</td><td>&quot;male&quot;</td></tr><tr><td>2013</td><td>0</td><td>1</td><td>3</td><td>1971</td><td>&quot;male&quot;</td></tr><tr><td>2013</td><td>0</td><td>1</td><td>4</td><td>1212</td><td>&quot;male&quot;</td></tr><tr><td>2013</td><td>0</td><td>1</td><td>5</td><td>168</td><td>&quot;male&quot;</td></tr></tbody></table></div>"
      ],
      "text/plain": [
       "shape: (5, 6)\n",
       "┌──────┬─────┬────────┬──────┬───────┬────────┐\n",
       "│ Year ┆ Age ┆ Ethnic ┆ Area ┆ count ┆ gender │\n",
       "│ ---  ┆ --- ┆ ---    ┆ ---  ┆ ---   ┆ ---    │\n",
       "│ i64  ┆ i64 ┆ i64    ┆ i64  ┆ i32   ┆ str    │\n",
       "╞══════╪═════╪════════╪══════╪═══════╪════════╡\n",
       "│ 2013 ┆ 0   ┆ 1      ┆ 1    ┆ 660   ┆ male   │\n",
       "│ 2013 ┆ 0   ┆ 1      ┆ 2    ┆ 5502  ┆ male   │\n",
       "│ 2013 ┆ 0   ┆ 1      ┆ 3    ┆ 1971  ┆ male   │\n",
       "│ 2013 ┆ 0   ┆ 1      ┆ 4    ┆ 1212  ┆ male   │\n",
       "│ 2013 ┆ 0   ┆ 1      ┆ 5    ┆ 168   ┆ male   │\n",
       "└──────┴─────┴────────┴──────┴───────┴────────┘"
      ]
     },
     "execution_count": 49,
     "metadata": {},
     "output_type": "execute_result"
    }
   ],
   "source": [
    "df_basic_filter_range = df_derive.filter(\n",
    "    df_derive['Year'].is_between(2006, 2013)  # upper limit inclusive\n",
    "    )\n",
    "\n",
    "df_basic_filter_range.head()"
   ]
  },
  {
   "cell_type": "code",
   "execution_count": 50,
   "metadata": {},
   "outputs": [
    {
     "name": "stdout",
     "output_type": "stream",
     "text": [
      "time to filter data: 0.13495707511901855\n"
     ]
    }
   ],
   "source": [
    "execution_time_for_filtering = time.time() - start_time_for_filtering\n",
    "print(f\"time to filter data: {execution_time_for_filtering}\")"
   ]
  },
  {
   "cell_type": "markdown",
   "metadata": {},
   "source": [
    "- pandas code: `wip...`"
   ]
  },
  {
   "cell_type": "markdown",
   "metadata": {},
   "source": [
    "## 2.d: Sort"
   ]
  },
  {
   "cell_type": "markdown",
   "metadata": {},
   "source": [
    "- polars code"
   ]
  },
  {
   "cell_type": "code",
   "execution_count": 51,
   "metadata": {},
   "outputs": [],
   "source": [
    "start_time_for_sorting = time.time()"
   ]
  },
  {
   "cell_type": "code",
   "execution_count": 52,
   "metadata": {},
   "outputs": [
    {
     "data": {
      "text/html": [
       "<div><style>\n",
       ".dataframe > thead > tr,\n",
       ".dataframe > tbody > tr {\n",
       "  text-align: right;\n",
       "  white-space: pre-wrap;\n",
       "}\n",
       "</style>\n",
       "<small>shape: (5, 6)</small><table border=\"1\" class=\"dataframe\"><thead><tr><th>Year</th><th>Age</th><th>Ethnic</th><th>Area</th><th>count</th><th>gender</th></tr><tr><td>i64</td><td>i64</td><td>i64</td><td>i64</td><td>i32</td><td>str</td></tr></thead><tbody><tr><td>2006</td><td>0</td><td>5</td><td>5</td><td>0</td><td>&quot;male&quot;</td></tr><tr><td>2006</td><td>0</td><td>5</td><td>12</td><td>0</td><td>&quot;male&quot;</td></tr><tr><td>2006</td><td>0</td><td>5</td><td>15</td><td>0</td><td>&quot;male&quot;</td></tr><tr><td>2006</td><td>0</td><td>5</td><td>16</td><td>0</td><td>&quot;male&quot;</td></tr><tr><td>2006</td><td>0</td><td>5</td><td>1</td><td>0</td><td>&quot;female&quot;</td></tr></tbody></table></div>"
      ],
      "text/plain": [
       "shape: (5, 6)\n",
       "┌──────┬─────┬────────┬──────┬───────┬────────┐\n",
       "│ Year ┆ Age ┆ Ethnic ┆ Area ┆ count ┆ gender │\n",
       "│ ---  ┆ --- ┆ ---    ┆ ---  ┆ ---   ┆ ---    │\n",
       "│ i64  ┆ i64 ┆ i64    ┆ i64  ┆ i32   ┆ str    │\n",
       "╞══════╪═════╪════════╪══════╪═══════╪════════╡\n",
       "│ 2006 ┆ 0   ┆ 5      ┆ 5    ┆ 0     ┆ male   │\n",
       "│ 2006 ┆ 0   ┆ 5      ┆ 12   ┆ 0     ┆ male   │\n",
       "│ 2006 ┆ 0   ┆ 5      ┆ 15   ┆ 0     ┆ male   │\n",
       "│ 2006 ┆ 0   ┆ 5      ┆ 16   ┆ 0     ┆ male   │\n",
       "│ 2006 ┆ 0   ┆ 5      ┆ 1    ┆ 0     ┆ female │\n",
       "└──────┴─────┴────────┴──────┴───────┴────────┘"
      ]
     },
     "execution_count": 52,
     "metadata": {},
     "output_type": "execute_result"
    }
   ],
   "source": [
    "df_derive = df_derive.sort(by=[\"Year\", \"count\"],\n",
    "                            nulls_last=True)\n",
    "df_derive.head()"
   ]
  },
  {
   "cell_type": "code",
   "execution_count": 53,
   "metadata": {},
   "outputs": [
    {
     "name": "stdout",
     "output_type": "stream",
     "text": [
      "Time to sort data: 3.9916300773620605\n"
     ]
    }
   ],
   "source": [
    "execution_time_for_sorting = time.time() - start_time_for_sorting\n",
    "print(f\"Time to sort data: {execution_time_for_sorting}\")"
   ]
  },
  {
   "cell_type": "markdown",
   "metadata": {},
   "source": [
    "- pandas code: `wip...`"
   ]
  },
  {
   "cell_type": "markdown",
   "metadata": {},
   "source": [
    "## 2.e: Group by"
   ]
  },
  {
   "cell_type": "code",
   "execution_count": 54,
   "metadata": {},
   "outputs": [],
   "source": [
    "start_time_for_grouping = time.time()"
   ]
  },
  {
   "cell_type": "code",
   "execution_count": 55,
   "metadata": {},
   "outputs": [
    {
     "data": {
      "text/html": [
       "<div><style>\n",
       ".dataframe > thead > tr,\n",
       ".dataframe > tbody > tr {\n",
       "  text-align: right;\n",
       "  white-space: pre-wrap;\n",
       "}\n",
       "</style>\n",
       "<small>shape: (3, 4)</small><table border=\"1\" class=\"dataframe\"><thead><tr><th>Year</th><th>year_wise_total_count</th><th>year_wise_avg_count</th><th>gender</th></tr><tr><td>i64</td><td>i32</td><td>f64</td><td>list[str]</td></tr></thead><tbody><tr><td>2006</td><td>1049590488</td><td>204.45</td><td>[&quot;male&quot;, &quot;male&quot;, … &quot;others&quot;]</td></tr><tr><td>2013</td><td>1072735711</td><td>202.39</td><td>[&quot;male&quot;, &quot;male&quot;, … &quot;others&quot;]</td></tr><tr><td>2018</td><td>1217611015</td><td>212.4</td><td>[&quot;male&quot;, &quot;male&quot;, … &quot;others&quot;]</td></tr></tbody></table></div>"
      ],
      "text/plain": [
       "shape: (3, 4)\n",
       "┌──────┬───────────────────────┬─────────────────────┬──────────────────────────────┐\n",
       "│ Year ┆ year_wise_total_count ┆ year_wise_avg_count ┆ gender                       │\n",
       "│ ---  ┆ ---                   ┆ ---                 ┆ ---                          │\n",
       "│ i64  ┆ i32                   ┆ f64                 ┆ list[str]                    │\n",
       "╞══════╪═══════════════════════╪═════════════════════╪══════════════════════════════╡\n",
       "│ 2006 ┆ 1049590488            ┆ 204.45              ┆ [\"male\", \"male\", … \"others\"] │\n",
       "│ 2013 ┆ 1072735711            ┆ 202.39              ┆ [\"male\", \"male\", … \"others\"] │\n",
       "│ 2018 ┆ 1217611015            ┆ 212.4               ┆ [\"male\", \"male\", … \"others\"] │\n",
       "└──────┴───────────────────────┴─────────────────────┴──────────────────────────────┘"
      ]
     },
     "execution_count": 55,
     "metadata": {},
     "output_type": "execute_result"
    }
   ],
   "source": [
    "df_year_wise_count = df_derive.group_by(\n",
    "    [\"Year\"],\n",
    "    maintain_order=True\n",
    "    ).agg(\n",
    "        pl.col(\"count\"). \\\n",
    "        sum(). \\\n",
    "        alias('year_wise_total_count'),\n",
    "\n",
    "        pl.col(\"count\"). \\\n",
    "        mean(). \\\n",
    "        round(2). \\\n",
    "        alias('year_wise_avg_count'),\n",
    "\n",
    "        pl.col('gender')\n",
    "        )\n",
    "\n",
    "df_year_wise_count.head()\n"
   ]
  },
  {
   "cell_type": "code",
   "execution_count": 56,
   "metadata": {},
   "outputs": [
    {
     "name": "stdout",
     "output_type": "stream",
     "text": [
      "time to aggregate data: 0.16802120208740234\n"
     ]
    }
   ],
   "source": [
    "execution_time_for_grouping = time.time() - start_time_for_grouping\n",
    "print(f\"time to aggregate data: {execution_time_for_grouping}\")"
   ]
  },
  {
   "cell_type": "markdown",
   "metadata": {},
   "source": [
    "- pandas code: `wip...`"
   ]
  },
  {
   "cell_type": "markdown",
   "metadata": {},
   "source": [
    "## 2.f: combining DF\n",
    "\n",
    "i. joining. [doc](https://docs.pola.rs/user-guide/transformations/joins/#quick-reference-table)\n",
    "\n",
    "ii. concat"
   ]
  },
  {
   "cell_type": "code",
   "execution_count": 57,
   "metadata": {},
   "outputs": [
    {
     "data": {
      "text/html": [
       "<div><style>\n",
       ".dataframe > thead > tr,\n",
       ".dataframe > tbody > tr {\n",
       "  text-align: right;\n",
       "  white-space: pre-wrap;\n",
       "}\n",
       "</style>\n",
       "<small>shape: (4, 1)</small><table border=\"1\" class=\"dataframe\"><thead><tr><th>Year</th></tr><tr><td>i64</td></tr></thead><tbody><tr><td>2006</td></tr><tr><td>2013</td></tr><tr><td>2018</td></tr><tr><td>2019</td></tr></tbody></table></div>"
      ],
      "text/plain": [
       "shape: (4, 1)\n",
       "┌──────┐\n",
       "│ Year │\n",
       "│ ---  │\n",
       "│ i64  │\n",
       "╞══════╡\n",
       "│ 2006 │\n",
       "│ 2013 │\n",
       "│ 2018 │\n",
       "│ 2019 │\n",
       "└──────┘"
      ]
     },
     "execution_count": 57,
     "metadata": {},
     "output_type": "execute_result"
    }
   ],
   "source": [
    "df2 = pl.DataFrame(\n",
    "    {\n",
    "        \"Year\": [2006, 2013, 2018, 2019],\n",
    "    }\n",
    ")\n",
    "\n",
    "df2.head()"
   ]
  },
  {
   "cell_type": "markdown",
   "metadata": {},
   "source": [
    "## 2.f.i: joining"
   ]
  },
  {
   "cell_type": "markdown",
   "metadata": {},
   "source": [
    "- polars code"
   ]
  },
  {
   "cell_type": "code",
   "execution_count": 58,
   "metadata": {},
   "outputs": [],
   "source": [
    "start_time_for_joining = time.time()"
   ]
  },
  {
   "cell_type": "code",
   "execution_count": 59,
   "metadata": {},
   "outputs": [
    {
     "data": {
      "text/html": [
       "<div><style>\n",
       ".dataframe > thead > tr,\n",
       ".dataframe > tbody > tr {\n",
       "  text-align: right;\n",
       "  white-space: pre-wrap;\n",
       "}\n",
       "</style>\n",
       "<small>shape: (5, 6)</small><table border=\"1\" class=\"dataframe\"><thead><tr><th>Year</th><th>Age</th><th>Ethnic</th><th>Sex</th><th>Area</th><th>count</th></tr><tr><td>i64</td><td>i64</td><td>i64</td><td>i64</td><td>i64</td><td>i32</td></tr></thead><tbody><tr><td>2019</td><td>null</td><td>null</td><td>null</td><td>null</td><td>null</td></tr><tr><td>2018</td><td>0</td><td>1</td><td>1</td><td>1</td><td>795</td></tr><tr><td>2018</td><td>0</td><td>1</td><td>1</td><td>2</td><td>5067</td></tr><tr><td>2018</td><td>0</td><td>1</td><td>1</td><td>3</td><td>2229</td></tr><tr><td>2018</td><td>0</td><td>1</td><td>1</td><td>4</td><td>1356</td></tr></tbody></table></div>"
      ],
      "text/plain": [
       "shape: (5, 6)\n",
       "┌──────┬──────┬────────┬──────┬──────┬───────┐\n",
       "│ Year ┆ Age  ┆ Ethnic ┆ Sex  ┆ Area ┆ count │\n",
       "│ ---  ┆ ---  ┆ ---    ┆ ---  ┆ ---  ┆ ---   │\n",
       "│ i64  ┆ i64  ┆ i64    ┆ i64  ┆ i64  ┆ i32   │\n",
       "╞══════╪══════╪════════╪══════╪══════╪═══════╡\n",
       "│ 2019 ┆ null ┆ null   ┆ null ┆ null ┆ null  │\n",
       "│ 2018 ┆ 0    ┆ 1      ┆ 1    ┆ 1    ┆ 795   │\n",
       "│ 2018 ┆ 0    ┆ 1      ┆ 1    ┆ 2    ┆ 5067  │\n",
       "│ 2018 ┆ 0    ┆ 1      ┆ 1    ┆ 3    ┆ 2229  │\n",
       "│ 2018 ┆ 0    ┆ 1      ┆ 1    ┆ 4    ┆ 1356  │\n",
       "└──────┴──────┴────────┴──────┴──────┴───────┘"
      ]
     },
     "execution_count": 59,
     "metadata": {},
     "output_type": "execute_result"
    }
   ],
   "source": [
    "df_left_join = df2.join(df, \n",
    "                       on=\"Year\",\n",
    "                       how=\"left\"). \\\n",
    "                        sort(by=[\"Year\"], \n",
    "                             descending=True)\n",
    "\n",
    "df_left_join.head()"
   ]
  },
  {
   "cell_type": "code",
   "execution_count": 60,
   "metadata": {},
   "outputs": [
    {
     "data": {
      "text/html": [
       "<div><style>\n",
       ".dataframe > thead > tr,\n",
       ".dataframe > tbody > tr {\n",
       "  text-align: right;\n",
       "  white-space: pre-wrap;\n",
       "}\n",
       "</style>\n",
       "<small>shape: (5, 6)</small><table border=\"1\" class=\"dataframe\"><thead><tr><th>Year</th><th>Age</th><th>Ethnic</th><th>Sex</th><th>Area</th><th>count</th></tr><tr><td>i64</td><td>i64</td><td>i64</td><td>i64</td><td>i64</td><td>i32</td></tr></thead><tbody><tr><td>2018</td><td>0</td><td>1</td><td>1</td><td>1</td><td>795</td></tr><tr><td>2018</td><td>0</td><td>1</td><td>1</td><td>2</td><td>5067</td></tr><tr><td>2018</td><td>0</td><td>1</td><td>1</td><td>3</td><td>2229</td></tr><tr><td>2018</td><td>0</td><td>1</td><td>1</td><td>4</td><td>1356</td></tr><tr><td>2018</td><td>0</td><td>1</td><td>1</td><td>5</td><td>180</td></tr></tbody></table></div>"
      ],
      "text/plain": [
       "shape: (5, 6)\n",
       "┌──────┬─────┬────────┬─────┬──────┬───────┐\n",
       "│ Year ┆ Age ┆ Ethnic ┆ Sex ┆ Area ┆ count │\n",
       "│ ---  ┆ --- ┆ ---    ┆ --- ┆ ---  ┆ ---   │\n",
       "│ i64  ┆ i64 ┆ i64    ┆ i64 ┆ i64  ┆ i32   │\n",
       "╞══════╪═════╪════════╪═════╪══════╪═══════╡\n",
       "│ 2018 ┆ 0   ┆ 1      ┆ 1   ┆ 1    ┆ 795   │\n",
       "│ 2018 ┆ 0   ┆ 1      ┆ 1   ┆ 2    ┆ 5067  │\n",
       "│ 2018 ┆ 0   ┆ 1      ┆ 1   ┆ 3    ┆ 2229  │\n",
       "│ 2018 ┆ 0   ┆ 1      ┆ 1   ┆ 4    ┆ 1356  │\n",
       "│ 2018 ┆ 0   ┆ 1      ┆ 1   ┆ 5    ┆ 180   │\n",
       "└──────┴─────┴────────┴─────┴──────┴───────┘"
      ]
     },
     "execution_count": 60,
     "metadata": {},
     "output_type": "execute_result"
    }
   ],
   "source": [
    "df_inner_join = df.join(df2, \n",
    "                       on=\"Year\",\n",
    "                       how=\"inner\").sort(by=[\"Year\"], descending=True)\n",
    "\n",
    "df_inner_join.head()"
   ]
  },
  {
   "cell_type": "code",
   "execution_count": 61,
   "metadata": {},
   "outputs": [
    {
     "name": "stdout",
     "output_type": "stream",
     "text": [
      "Time to join data: 3.6304609775543213\n"
     ]
    }
   ],
   "source": [
    "execution_time_for_joining = time.time() - start_time_for_joining\n",
    "print(f\"Time to join data: {execution_time_for_joining}\")"
   ]
  },
  {
   "cell_type": "markdown",
   "metadata": {},
   "source": [
    "- pandas code: `wip...`"
   ]
  },
  {
   "cell_type": "markdown",
   "metadata": {},
   "source": [
    "- findings\n",
    "    - despite having traditional joins, it has some extra join techniques like `semi`, `anti` like `PySpark`"
   ]
  },
  {
   "cell_type": "markdown",
   "metadata": {},
   "source": [
    "## 2.f.ii: concatinating"
   ]
  },
  {
   "cell_type": "code",
   "execution_count": 62,
   "metadata": {},
   "outputs": [],
   "source": [
    "df3 = pl.DataFrame(\n",
    "    {\n",
    "        \"Year\": [2020, 2021, 2022, 2023],\n",
    "        \"Age\": [0,0,0,0],\n",
    "        \"Ethnic\": [1, 2, 3, 4],\n",
    "        \"Sex\": [1, 2, 1, 2], \n",
    "        \"Area\": [1, 2, 3, 4],\n",
    "        \"count\": [1000, 2000, 3000, 4000]\n",
    "    }\n",
    ")"
   ]
  },
  {
   "cell_type": "markdown",
   "metadata": {},
   "source": [
    "- polars code"
   ]
  },
  {
   "cell_type": "code",
   "execution_count": 63,
   "metadata": {},
   "outputs": [],
   "source": [
    "start_time_for_concatinating = time.time()"
   ]
  },
  {
   "cell_type": "code",
   "execution_count": 64,
   "metadata": {},
   "outputs": [
    {
     "data": {
      "text/html": [
       "<div><style>\n",
       ".dataframe > thead > tr,\n",
       ".dataframe > tbody > tr {\n",
       "  text-align: right;\n",
       "  white-space: pre-wrap;\n",
       "}\n",
       "</style>\n",
       "<small>shape: (5, 6)</small><table border=\"1\" class=\"dataframe\"><thead><tr><th>Year</th><th>Age</th><th>Ethnic</th><th>Sex</th><th>Area</th><th>count</th></tr><tr><td>i64</td><td>i64</td><td>i64</td><td>i64</td><td>i64</td><td>i64</td></tr></thead><tbody><tr><td>2023</td><td>0</td><td>4</td><td>2</td><td>4</td><td>4000</td></tr><tr><td>2022</td><td>0</td><td>3</td><td>1</td><td>3</td><td>3000</td></tr><tr><td>2021</td><td>0</td><td>2</td><td>2</td><td>2</td><td>2000</td></tr><tr><td>2020</td><td>0</td><td>1</td><td>1</td><td>1</td><td>1000</td></tr><tr><td>2018</td><td>0</td><td>1</td><td>1</td><td>1</td><td>795</td></tr></tbody></table></div>"
      ],
      "text/plain": [
       "shape: (5, 6)\n",
       "┌──────┬─────┬────────┬─────┬──────┬───────┐\n",
       "│ Year ┆ Age ┆ Ethnic ┆ Sex ┆ Area ┆ count │\n",
       "│ ---  ┆ --- ┆ ---    ┆ --- ┆ ---  ┆ ---   │\n",
       "│ i64  ┆ i64 ┆ i64    ┆ i64 ┆ i64  ┆ i64   │\n",
       "╞══════╪═════╪════════╪═════╪══════╪═══════╡\n",
       "│ 2023 ┆ 0   ┆ 4      ┆ 2   ┆ 4    ┆ 4000  │\n",
       "│ 2022 ┆ 0   ┆ 3      ┆ 1   ┆ 3    ┆ 3000  │\n",
       "│ 2021 ┆ 0   ┆ 2      ┆ 2   ┆ 2    ┆ 2000  │\n",
       "│ 2020 ┆ 0   ┆ 1      ┆ 1   ┆ 1    ┆ 1000  │\n",
       "│ 2018 ┆ 0   ┆ 1      ┆ 1   ┆ 1    ┆ 795   │\n",
       "└──────┴─────┴────────┴─────┴──────┴───────┘"
      ]
     },
     "execution_count": 64,
     "metadata": {},
     "output_type": "execute_result"
    }
   ],
   "source": [
    "df_concat = pl.concat([df, df3], \n",
    "                      how=\"vertical_relaxed\")  # vertical_relaxed: best for datatype missmatched, Int32 -> Int64\n",
    "\n",
    "df_concat.sort(by='Year', \n",
    "                      descending=True).head(5)"
   ]
  },
  {
   "cell_type": "code",
   "execution_count": 65,
   "metadata": {},
   "outputs": [
    {
     "name": "stdout",
     "output_type": "stream",
     "text": [
      "time to concat data: 1.5106580257415771\n"
     ]
    }
   ],
   "source": [
    "execution_time_for_concatinating = time.time() - start_time_for_concatinating\n",
    "print(f\"time to concat data: {execution_time_for_concatinating}\")"
   ]
  },
  {
   "cell_type": "markdown",
   "metadata": {},
   "source": [
    "- pandas code: `wip...`"
   ]
  },
  {
   "cell_type": "markdown",
   "metadata": {},
   "source": []
  }
 ],
 "metadata": {
  "kernelspec": {
   "display_name": "pandas_vs_polars",
   "language": "python",
   "name": "python3"
  },
  "language_info": {
   "codemirror_mode": {
    "name": "ipython",
    "version": 3
   },
   "file_extension": ".py",
   "mimetype": "text/x-python",
   "name": "python",
   "nbconvert_exporter": "python",
   "pygments_lexer": "ipython3",
   "version": "3.11.5"
  }
 },
 "nbformat": 4,
 "nbformat_minor": 2
}
